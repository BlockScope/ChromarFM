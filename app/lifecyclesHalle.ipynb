{
 "cells": [
  {
   "cell_type": "code",
   "execution_count": 1,
   "metadata": {
    "collapsed": true
   },
   "outputs": [],
   "source": [
    ":load AnalysisEvents.hs\n",
    "import Data.Colour\n",
    "import Data.Colour.Names\n",
    "import AnalysisEvents"
   ]
  },
  {
   "cell_type": "code",
   "execution_count": 2,
   "metadata": {
    "collapsed": false
   },
   "outputs": [
    {
     "data": {
      "text/plain": []
     },
     "metadata": {},
     "output_type": "display_data"
    }
   ],
   "source": [
    "livesLL <- fmap getLfDistr (readEvents \"../out/lifeExpsHal/outEvents_d0.0_r0.598.txt\")\n",
    "livesHH <- fmap getLfDistr (readEvents \"../out/lifeExpsHal/outEvents_d2.5_r0.737.txt\")"
   ]
  },
  {
   "cell_type": "code",
   "execution_count": 3,
   "metadata": {
    "collapsed": false
   },
   "outputs": [
    {
     "data": {
      "text/plain": []
     },
     "metadata": {},
     "output_type": "display_data"
    }
   ],
   "source": [
    "let lensLL = map (/24) (getLens livesLL)\n",
    "    lensHH = map (/24) (getLens livesHH)"
   ]
  },
  {
   "cell_type": "code",
   "execution_count": 4,
   "metadata": {
    "collapsed": false
   },
   "outputs": [
    {
     "data": {
      "text/plain": []
     },
     "metadata": {},
     "output_type": "display_data"
    }
   ],
   "source": [
    "plotHistsGrid \"scratch/lensh.png\" 1 [mkHist' [blue, red] \"days\" \"lengths\" [lensLL, lensHH]]"
   ]
  },
  {
   "cell_type": "markdown",
   "metadata": {},
   "source": [
    "![alt](scratch/lensh.png \"\")"
   ]
  },
  {
   "cell_type": "code",
   "execution_count": 6,
   "metadata": {
    "collapsed": false
   },
   "outputs": [
    {
     "data": {
      "text/plain": []
     },
     "metadata": {},
     "output_type": "display_data"
    }
   ],
   "source": [
    "let vegLL = map (/24) (vegSLen livesLL)\n",
    "    reprLL = map (/24) (reprSLen livesLL)\n",
    "    dormLL = map (/24) (dormSLen livesLL)\n",
    "    \n",
    "let vegHH = map (/24) (vegSLen livesHH)\n",
    "    reprHH = map (/24) (reprSLen livesHH)\n",
    "    dormHH = map (/24) (dormSLen livesHH)    \n",
    "    \n",
    "plotHistsGrid \"scratch/lengthshal.png\" 3 [mkHist' [blue,red] \"days\" \"veg len\" [vegLL, vegHH], \n",
    " mkHist' [blue,red] \"days\" \"repr len\" [reprLL, reprHH],\n",
    " mkHist' [blue,red] \"days\" \"dorm len\" [dormLL, dormHH]]"
   ]
  },
  {
   "cell_type": "markdown",
   "metadata": {},
   "source": [
    "![alt](scratch/lengthshal.png \"\")"
   ]
  },
  {
   "cell_type": "code",
   "execution_count": 8,
   "metadata": {
    "collapsed": false
   },
   "outputs": [
    {
     "data": {
      "text/plain": []
     },
     "metadata": {},
     "output_type": "display_data"
    }
   ],
   "source": [
    "let germTLL = map (germT .> getDayYear) livesLL\n",
    "    flowerTLL = map (flowerT .> getDayYear) livesLL\n",
    "    ssetTLL = map (ssetT .> getDayYear) livesLL\n",
    "    \n",
    "let germTHH = map (germT .> getDayYear) livesHH\n",
    "    flowerTHH = map (flowerT .> getDayYear) livesHH\n",
    "    ssetTHH = map (ssetT .> getDayYear) livesHH\n",
    "    \n",
    "plotHistsGrid \"scratch/timingshal.png\" 3 [mkHist' [blue, red] \"day of year\" \"germ time\" [germTLL, germTHH],\n",
    " mkHist' [blue, red] \"day of year\" \"flower time\" [flowerTLL, flowerTHH],\n",
    " mkHist' [blue, red] \"day of year\" \"sset time\" [ssetTLL, ssetTHH]]"
   ]
  },
  {
   "cell_type": "markdown",
   "metadata": {},
   "source": [
    "![alt](scratch/timingshal.png \"\")"
   ]
  },
  {
   "cell_type": "code",
   "execution_count": null,
   "metadata": {
    "collapsed": true
   },
   "outputs": [],
   "source": []
  }
 ],
 "metadata": {
  "kernelspec": {
   "display_name": "Haskell",
   "language": "haskell",
   "name": "haskell"
  },
  "language_info": {
   "codemirror_mode": "ihaskell",
   "file_extension": ".hs",
   "name": "haskell",
   "version": "7.10.3"
  }
 },
 "nbformat": 4,
 "nbformat_minor": 0
}
